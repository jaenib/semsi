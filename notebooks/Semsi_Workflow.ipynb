{
 "cells": [
  {
   "cell_type": "markdown",
   "id": "03910bad",
   "metadata": {},
   "source": [
    "# Semsi Interactive Notebook\n",
    "\n",
    "This notebook reproduces the core Semsi workflow—parsing a `contents.txt` file, building tag embeddings with TF–IDF, and exploring the resulting cosine similarity matrix. It relies exclusively on the lightweight `semsi` package shipped in this repository, so you can run it locally without the legacy Colab setup."
   ]
  },
  {
   "cell_type": "markdown",
   "id": "3f367f86",
   "metadata": {},
   "source": [
    "## How to use this notebook\n",
    "\n",
    "1. Install the project in editable mode (once per environment):\n",
    "   ```bash\n",
    "   pip install -e .\n",
    "   ```\n",
    "2. (Optional) Install extras for nicer tables and widgets:\n",
    "   ```bash\n",
    "   pip install pandas ipywidgets\n",
    "   ```\n",
    "3. Open this notebook with Jupyter Lab, VS Code, or any other front-end and execute the cells top to bottom."
   ]
  },
  {
   "cell_type": "code",
   "execution_count": null,
   "id": "979da476",
   "metadata": {},
   "outputs": [],
   "source": [
    "from pathlib import Path\n",
    "\n",
    "from semsi import (\n",
    "    parse_contents_file,\n",
    "    TagEmbeddingModel,\n",
    "    build_similarity_matrix,\n",
    "    get_top_similar,\n",
    ")\n",
    "\n",
    "try:\n",
    "    from IPython.display import display  # type: ignore\n",
    "except ImportError:  # pragma: no cover - IPython is optional outside notebooks\n",
    "    display = None\n",
    "\n",
    "try:\n",
    "    import pandas as pd  # type: ignore\n",
    "except ImportError:  # pragma: no cover - pandas is optional\n",
    "    pd = None\n",
    "\n",
    "try:\n",
    "    import ipywidgets as widgets  # type: ignore\n",
    "except ImportError:  # pragma: no cover - widgets are optional\n",
    "    widgets = None\n",
    "\n",
    "# Point to the contents.txt file you want to analyse.\n",
    "CONTENTS_PATH = Path(\"example_data/contents.txt\")\n",
    "assert CONTENTS_PATH.exists(), f\"Could not find {CONTENTS_PATH.resolve()}\"\n"
   ]
  },
  {
   "cell_type": "code",
   "execution_count": null,
   "id": "513456b0",
   "metadata": {},
   "outputs": [],
   "source": [
    "documents = parse_contents_file(CONTENTS_PATH)\n",
    "print(f\"Parsed {len(documents)} documents from {CONTENTS_PATH}.\")\n",
    "print(\"First 3 entries:\")\n",
    "for document in documents[:3]:\n",
    "    print(f\"- {document.identifier}: {', '.join(document.tags)}\")\n"
   ]
  },
  {
   "cell_type": "code",
   "execution_count": null,
   "id": "1e00b2d2",
   "metadata": {},
   "outputs": [],
   "source": [
    "model = TagEmbeddingModel()\n",
    "embeddings = model.fit_transform(documents)\n",
    "similarity = build_similarity_matrix(documents, embeddings)\n",
    "print(f\"Similarity matrix shape: {len(similarity.labels)} x {len(similarity.labels)}\")\n"
   ]
  },
  {
   "cell_type": "code",
   "execution_count": null,
   "id": "5781f344",
   "metadata": {},
   "outputs": [],
   "source": [
    "def similarity_dataframe(matrix):\n",
    "    if pd is None:\n",
    "        return None\n",
    "    return pd.DataFrame(matrix.values, index=matrix.labels, columns=matrix.labels)\n",
    "\n",
    "if pd is not None and display is not None:\n",
    "    df = similarity_dataframe(similarity)\n",
    "    display(df.round(3))\n",
    "else:\n",
    "    print(\"Pandas (or IPython display) is not available; showing a textual preview instead.\n",
    "\")\n",
    "    print(similarity.preview(limit=5))\n"
   ]
  },
  {
   "cell_type": "code",
   "execution_count": null,
   "id": "067fe1c9",
   "metadata": {},
   "outputs": [],
   "source": [
    "def show_top_matches(target: str, top_n: int = 5):\n",
    "    matches = get_top_similar(similarity, target, top_n=top_n)\n",
    "    if pd is not None and display is not None:\n",
    "        df = pd.DataFrame(matches, columns=[\"identifier\", \"score\"])\n",
    "        display(df)\n",
    "    else:\n",
    "        for label, score in matches:\n",
    "            print(f\"{label}: {score:.3f}\")\n",
    "\n",
    "available_targets = sorted(similarity.labels)\n",
    "\n",
    "if widgets is not None and display is not None:\n",
    "    target_dropdown = widgets.Dropdown(options=available_targets, description=\"Target\")\n",
    "    top_slider = widgets.IntSlider(value=5, min=1, max=min(15, len(available_targets) - 1), description=\"Top N\")\n",
    "    ui = widgets.VBox([target_dropdown, top_slider])\n",
    "    out = widgets.interactive_output(\n",
    "        lambda target, top_n: show_top_matches(target, top_n),\n",
    "        {\"target\": target_dropdown, \"top_n\": top_slider},\n",
    "    )\n",
    "    display(ui, out)\n",
    "else:\n",
    "    print(\"ipywidgets is not available. Call show_top_matches() manually, e.g.:\")\n",
    "    example = available_targets[0]\n",
    "    print(f\"show_top_matches('{example}', top_n=5)\")\n"
   ]
  },
  {
   "cell_type": "code",
   "execution_count": null,
   "id": "cc952549",
   "metadata": {},
   "outputs": [],
   "source": [
    "# Optional: save the similarity matrix to disk (CSV, JSON, or pickle)\n",
    "from pathlib import Path\n",
    "\n",
    "output_dir = Path(\"notebooks/outputs\")\n",
    "output_dir.mkdir(parents=True, exist_ok=True)\n",
    "(similarity.save_csv(output_dir / \"similarity.csv\"))\n",
    "(similarity.save_json(output_dir / \"similarity.json\"))\n",
    "print(f\"Saved CSV and JSON copies under {output_dir.resolve()}\")\n"
   ]
  }
 ],
 "metadata": {},
 "nbformat": 4,
 "nbformat_minor": 5
}
